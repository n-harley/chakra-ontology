{
 "cells": [
  {
   "cell_type": "markdown",
   "metadata": {},
   "source": [
    "# The CHAKRA Ontology"
   ]
  },
  {
   "cell_type": "code",
   "execution_count": 1,
   "metadata": {},
   "outputs": [],
   "source": [
    "from pyld import jsonld\n",
    "import json\n",
    "\n",
    "with open('json-ld-encoding.json', 'r') as cho:\n",
    "    ontology = json.load(cho)\n",
    "    \n",
    "context = ontology['@context']"
   ]
  },
  {
   "cell_type": "code",
   "execution_count": 2,
   "metadata": {},
   "outputs": [],
   "source": [
    "expanded = jsonld.expand(ontology)\n",
    "compacted = jsonld.compact(expanded,context)\n",
    "flattened = jsonld.flatten(ontology)"
   ]
  },
  {
   "cell_type": "code",
   "execution_count": 3,
   "metadata": {},
   "outputs": [
    {
     "data": {
      "text/plain": [
       "{'chakra': 'https://n-harley.github.io/chakra-ontology/#',\n",
       " 'rdf': 'http://www.w3.org/1999/02/22-rdf-syntax-ns#',\n",
       " 'rdfs': 'http://www.w3.org/2000/01/rdf-schema#',\n",
       " 'owl': 'http://www.w3.org/2002/07/owl#',\n",
       " 'defines': {'@reverse': 'rdfs:isDefinedBy'},\n",
       " 'rdfs:domain': {'@type': '@id'},\n",
       " 'rdfs:range': {'@type': '@id'},\n",
       " 'subClassOf': {'@id': 'rdfs:subClassOf', '@type': '@id'},\n",
       " 'owl:unionOf': {'@type': '@id'}}"
      ]
     },
     "execution_count": 3,
     "metadata": {},
     "output_type": "execute_result"
    }
   ],
   "source": [
    "context\n",
    "#ontology\n",
    "#expanded\n",
    "#flattened"
   ]
  }
 ],
 "metadata": {
  "kernelspec": {
   "display_name": "Python 3",
   "language": "python",
   "name": "python3"
  },
  "language_info": {
   "codemirror_mode": {
    "name": "ipython",
    "version": 3
   },
   "file_extension": ".py",
   "mimetype": "text/x-python",
   "name": "python",
   "nbconvert_exporter": "python",
   "pygments_lexer": "ipython3",
   "version": "3.7.6"
  }
 },
 "nbformat": 4,
 "nbformat_minor": 4
}
