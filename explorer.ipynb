{
 "cells": [
  {
   "cell_type": "code",
   "execution_count": 1,
   "metadata": {},
   "outputs": [],
   "source": [
    "from pyld import jsonld\n",
    "import json\n",
    "\n",
    "with open('json-ld-encoding.json', 'r') as cho:\n",
    "    ont = json.load(cho)"
   ]
  },
  {
   "cell_type": "code",
   "execution_count": 2,
   "metadata": {},
   "outputs": [
    {
     "data": {
      "text/plain": [
       "[{'@id': 'https://n-harley.github.io/chakra-ontology/#',\n",
       "  '@type': ['http://www.w3.org/2002/07/owl#Ontology'],\n",
       "  '@reverse': {'http://www.w3.org/2000/01/rdf-schema#isDefinedBy': [{'@id': 'https://n-harley.github.io/chakra-ontology/#Constituent',\n",
       "     '@type': ['http://www.w3.org/2002/07/owl#Class']},\n",
       "    {'@id': 'https://n-harley.github.io/chakra-ontology/#Association',\n",
       "     '@type': ['http://www.w3.org/2002/07/owl#Class']},\n",
       "    {'@id': 'https://n-harley.github.io/chakra-ontology/#Attribute',\n",
       "     '@type': ['http://www.w3.org/2002/07/owl#Class']},\n",
       "    {'@id': 'https://n-harley.github.io/chakra-ontology/#Property',\n",
       "     '@type': ['http://www.w3.org/2002/07/owl#Class']},\n",
       "    {'@id': 'https://n-harley.github.io/chakra-ontology/#hasPart',\n",
       "     '@type': ['http://www.w3.org/2002/07/owl#ObjectProperty'],\n",
       "     'http://www.w3.org/2000/01/rdf-schema#domain': [{'@id': 'https://n-harley.github.io/chakra-ontology/#Constituent'}],\n",
       "     'http://www.w3.org/2000/01/rdf-schema#range': [{'@id': 'https://n-harley.github.io/chakra-ontology/#Constituent'}]},\n",
       "    {'@id': 'https://n-harley.github.io/chakra-ontology/#isPartOf',\n",
       "     '@type': ['http://www.w3.org/2002/07/owl#ObjectProperty'],\n",
       "     'http://www.w3.org/2002/07/owl#inverseOf': [{'@value': 'chakra:hasPart'}],\n",
       "     'http://www.w3.org/2000/01/rdf-schema#domain': [{'@id': 'https://n-harley.github.io/chakra-ontology/#Constituent'}],\n",
       "     'http://www.w3.org/2000/01/rdf-schema#range': [{'@id': 'https://n-harley.github.io/chakra-ontology/#Constituent'}]},\n",
       "    {'@id': 'https://n-harley.github.io/chakra-ontology/#hasSource',\n",
       "     '@type': ['http://www.w3.org/2002/07/owl#ObjectProperty'],\n",
       "     'http://www.w3.org/2000/01/rdf-schema#domain': [{'@id': 'https://n-harley.github.io/chakra-ontology/#Association'}],\n",
       "     'http://www.w3.org/2000/01/rdf-schema#range': [{'@id': 'https://n-harley.github.io/chakra-ontology/#Constituent'}]},\n",
       "    {'@id': 'https://n-harley.github.io/chakra-ontology/#hasTarget',\n",
       "     '@type': ['http://www.w3.org/2002/07/owl#ObjectProperty'],\n",
       "     'http://www.w3.org/2000/01/rdf-schema#domain': [{'@id': 'https://n-harley.github.io/chakra-ontology/#Association'}],\n",
       "     'http://www.w3.org/2000/01/rdf-schema#range': [{'@id': 'https://n-harley.github.io/chakra-ontology/#Constituent'}]},\n",
       "    {'@id': 'https://n-harley.github.io/chakra-ontology/#hasAttribute',\n",
       "     '@type': ['http://www.w3.org/2002/07/owl#ObjectProperty'],\n",
       "     'http://www.w3.org/2000/01/rdf-schema#domain': [{'http://www.w3.org/2002/07/owl#unionOf': [{'@list': [{'@id': 'https://n-harley.github.io/chakra-ontology/#Constituent'},\n",
       "          {'@id': 'https://n-harley.github.io/chakra-ontology/#Association'}]}]}],\n",
       "     'http://www.w3.org/2000/01/rdf-schema#range': [{'@id': 'https://n-harley.github.io/chakra-ontology/#Attribute'}]},\n",
       "    {'@id': 'https://n-harley.github.io/chakra-ontology/#hasProperty',\n",
       "     '@type': ['http://www.w3.org/2002/07/owl#ObjectProperty'],\n",
       "     'http://www.w3.org/2000/01/rdf-schema#domain': [{'http://www.w3.org/2002/07/owl#unionOf': [{'@list': [{'@id': 'https://n-harley.github.io/chakra-ontology/#Constituent'},\n",
       "          {'@id': 'https://n-harley.github.io/chakra-ontology/#Association'}]}]}],\n",
       "     'http://www.w3.org/2000/01/rdf-schema#range': [{'@id': 'https://n-harley.github.io/chakra-ontology/#Property'}]}]}}]"
      ]
     },
     "execution_count": 2,
     "metadata": {},
     "output_type": "execute_result"
    }
   ],
   "source": [
    "expanded = jsonld.expand(ont)\n",
    "expanded"
   ]
  },
  {
   "cell_type": "code",
   "execution_count": null,
   "metadata": {},
   "outputs": [],
   "source": []
  }
 ],
 "metadata": {
  "kernelspec": {
   "display_name": "Python 3",
   "language": "python",
   "name": "python3"
  },
  "language_info": {
   "codemirror_mode": {
    "name": "ipython",
    "version": 3
   },
   "file_extension": ".py",
   "mimetype": "text/x-python",
   "name": "python",
   "nbconvert_exporter": "python",
   "pygments_lexer": "ipython3",
   "version": "3.7.6"
  }
 },
 "nbformat": 4,
 "nbformat_minor": 4
}
