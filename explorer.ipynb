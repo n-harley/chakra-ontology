{
 "cells": [
  {
   "cell_type": "markdown",
   "metadata": {},
   "source": [
    "# The CHAKRA Ontology"
   ]
  },
  {
   "cell_type": "code",
   "execution_count": 1,
   "metadata": {},
   "outputs": [],
   "source": [
    "from pyld import jsonld\n",
    "import json\n",
    "\n",
    "with open('jsonld', 'r') as cho:\n",
    "    ontology = json.load(cho)\n",
    "    \n",
    "context = ontology['@context']"
   ]
  },
  {
   "cell_type": "code",
   "execution_count": 2,
   "metadata": {},
   "outputs": [],
   "source": [
    "expanded = jsonld.expand(ontology)\n",
    "compacted = jsonld.compact(expanded,context)\n",
    "flattened = jsonld.flatten(ontology)"
   ]
  },
  {
   "cell_type": "code",
   "execution_count": 3,
   "metadata": {},
   "outputs": [
    {
     "data": {
      "text/plain": [
       "{'chakra': 'https://nick-harley.github.io/chakra-ontology#',\n",
       " 'rdf': 'http://www.w3.org/1999/02/22-rdf-syntax-ns#',\n",
       " 'rdfs': 'http://www.w3.org/2000/01/rdf-schema#',\n",
       " 'owl': 'http://www.w3.org/2002/07/owl#',\n",
       " 'defines': {'@reverse': 'rdfs:isDefinedBy'},\n",
       " 'rdfs:domain': {'@type': '@id'},\n",
       " 'rdfs:range': {'@type': '@id'},\n",
       " 'subClassOf': {'@id': 'rdfs:subClassOf', '@type': '@id'},\n",
       " 'owl:unionOf': {'@type': '@id'}}"
      ]
     },
     "execution_count": 3,
     "metadata": {},
     "output_type": "execute_result"
    }
   ],
   "source": [
    "context"
   ]
  },
  {
   "cell_type": "code",
   "execution_count": 4,
   "metadata": {},
   "outputs": [
    {
     "data": {
      "text/plain": [
       "{'@context': {'chakra': 'https://nick-harley.github.io/chakra-ontology#',\n",
       "  'rdf': 'http://www.w3.org/1999/02/22-rdf-syntax-ns#',\n",
       "  'rdfs': 'http://www.w3.org/2000/01/rdf-schema#',\n",
       "  'owl': 'http://www.w3.org/2002/07/owl#',\n",
       "  'defines': {'@reverse': 'rdfs:isDefinedBy'},\n",
       "  'rdfs:domain': {'@type': '@id'},\n",
       "  'rdfs:range': {'@type': '@id'},\n",
       "  'subClassOf': {'@id': 'rdfs:subClassOf', '@type': '@id'},\n",
       "  'owl:unionOf': {'@type': '@id'}},\n",
       " '@id': 'chakra:',\n",
       " '@type': 'owl:Ontology',\n",
       " 'defines': [{'@id': 'chakra:Structure', '@type': 'owl:Class'},\n",
       "  {'@id': 'chakra:Constituent', '@type': 'owl:Class'},\n",
       "  {'@id': 'chakra:Attribute', '@type': 'owl:Class'},\n",
       "  {'@id': 'chakra:Property', '@type': 'owl:Class'},\n",
       "  {'@id': 'chakra:hasPart',\n",
       "   '@type': 'owl:ObjectProperty',\n",
       "   'rdfs:domain': 'chakra:Constituent',\n",
       "   'rdfs:range': 'chakra:Constituent'},\n",
       "  {'@id': 'chakra:isPartOf',\n",
       "   '@type': 'owl:ObjectProperty',\n",
       "   'rdfs:domain': 'chakra:Constituent',\n",
       "   'rdfs:range': 'chakra:Constituent',\n",
       "   'owl:inverseOf': 'chakra:hasPart'},\n",
       "  {'@id': 'chakra:hasAttribute',\n",
       "   '@type': 'owl:ObjectProperty',\n",
       "   'rdfs:domain': 'chakra:Constituent',\n",
       "   'rdfs:range': 'chakra:Attribute'},\n",
       "  {'@id': 'chakra:hasProperty',\n",
       "   '@type': 'owl:ObjectProperty',\n",
       "   'rdfs:domain': 'chakra:Constituent',\n",
       "   'rdfs:range': 'chakra:Property'},\n",
       "  {'@id': 'chakra:name',\n",
       "   '@type': 'owl:DatatypeProperty',\n",
       "   'rdfs:domain': {'owl:unionOf': {'@list': ['chakra:Attribute',\n",
       "      'chakra:Property']}}},\n",
       "  {'@id': 'chakra:value',\n",
       "   '@type': 'owl:DatatypeProperty',\n",
       "   'rdfs:domain': {'owl:unionOf': {'@list': ['chakra:Attribute',\n",
       "      'chakra:Property']}}},\n",
       "  {'@id': 'chakra:particles',\n",
       "   '@type': 'owl:ObjectProperty',\n",
       "   'rdfs:domain': 'chakra:Constituent',\n",
       "   'rdfs:range': 'rdf:List'},\n",
       "  {'@id': 'chakra:constituents',\n",
       "   '@type': 'owl:ObjectProperty',\n",
       "   'rdfs:domain': 'chakra:Structure',\n",
       "   'rdfs:range': 'rdf:List'}]}"
      ]
     },
     "execution_count": 4,
     "metadata": {},
     "output_type": "execute_result"
    }
   ],
   "source": [
    "ontology"
   ]
  },
  {
   "cell_type": "code",
   "execution_count": 5,
   "metadata": {},
   "outputs": [
    {
     "data": {
      "text/plain": [
       "[{'@id': 'https://nick-harley.github.io/chakra-ontology#',\n",
       "  '@type': ['http://www.w3.org/2002/07/owl#Ontology'],\n",
       "  '@reverse': {'http://www.w3.org/2000/01/rdf-schema#isDefinedBy': [{'@id': 'https://nick-harley.github.io/chakra-ontology#Structure',\n",
       "     '@type': ['http://www.w3.org/2002/07/owl#Class']},\n",
       "    {'@id': 'https://nick-harley.github.io/chakra-ontology#Constituent',\n",
       "     '@type': ['http://www.w3.org/2002/07/owl#Class']},\n",
       "    {'@id': 'https://nick-harley.github.io/chakra-ontology#Attribute',\n",
       "     '@type': ['http://www.w3.org/2002/07/owl#Class']},\n",
       "    {'@id': 'https://nick-harley.github.io/chakra-ontology#Property',\n",
       "     '@type': ['http://www.w3.org/2002/07/owl#Class']},\n",
       "    {'@id': 'https://nick-harley.github.io/chakra-ontology#hasPart',\n",
       "     '@type': ['http://www.w3.org/2002/07/owl#ObjectProperty'],\n",
       "     'http://www.w3.org/2000/01/rdf-schema#domain': [{'@id': 'https://nick-harley.github.io/chakra-ontology#Constituent'}],\n",
       "     'http://www.w3.org/2000/01/rdf-schema#range': [{'@id': 'https://nick-harley.github.io/chakra-ontology#Constituent'}]},\n",
       "    {'@id': 'https://nick-harley.github.io/chakra-ontology#isPartOf',\n",
       "     '@type': ['http://www.w3.org/2002/07/owl#ObjectProperty'],\n",
       "     'http://www.w3.org/2002/07/owl#inverseOf': [{'@value': 'chakra:hasPart'}],\n",
       "     'http://www.w3.org/2000/01/rdf-schema#domain': [{'@id': 'https://nick-harley.github.io/chakra-ontology#Constituent'}],\n",
       "     'http://www.w3.org/2000/01/rdf-schema#range': [{'@id': 'https://nick-harley.github.io/chakra-ontology#Constituent'}]},\n",
       "    {'@id': 'https://nick-harley.github.io/chakra-ontology#hasAttribute',\n",
       "     '@type': ['http://www.w3.org/2002/07/owl#ObjectProperty'],\n",
       "     'http://www.w3.org/2000/01/rdf-schema#domain': [{'@id': 'https://nick-harley.github.io/chakra-ontology#Constituent'}],\n",
       "     'http://www.w3.org/2000/01/rdf-schema#range': [{'@id': 'https://nick-harley.github.io/chakra-ontology#Attribute'}]},\n",
       "    {'@id': 'https://nick-harley.github.io/chakra-ontology#hasProperty',\n",
       "     '@type': ['http://www.w3.org/2002/07/owl#ObjectProperty'],\n",
       "     'http://www.w3.org/2000/01/rdf-schema#domain': [{'@id': 'https://nick-harley.github.io/chakra-ontology#Constituent'}],\n",
       "     'http://www.w3.org/2000/01/rdf-schema#range': [{'@id': 'https://nick-harley.github.io/chakra-ontology#Property'}]},\n",
       "    {'@id': 'https://nick-harley.github.io/chakra-ontology#name',\n",
       "     '@type': ['http://www.w3.org/2002/07/owl#DatatypeProperty'],\n",
       "     'http://www.w3.org/2000/01/rdf-schema#domain': [{'http://www.w3.org/2002/07/owl#unionOf': [{'@list': [{'@id': 'https://nick-harley.github.io/chakra-ontology#Attribute'},\n",
       "          {'@id': 'https://nick-harley.github.io/chakra-ontology#Property'}]}]}]},\n",
       "    {'@id': 'https://nick-harley.github.io/chakra-ontology#value',\n",
       "     '@type': ['http://www.w3.org/2002/07/owl#DatatypeProperty'],\n",
       "     'http://www.w3.org/2000/01/rdf-schema#domain': [{'http://www.w3.org/2002/07/owl#unionOf': [{'@list': [{'@id': 'https://nick-harley.github.io/chakra-ontology#Attribute'},\n",
       "          {'@id': 'https://nick-harley.github.io/chakra-ontology#Property'}]}]}]},\n",
       "    {'@id': 'https://nick-harley.github.io/chakra-ontology#particles',\n",
       "     '@type': ['http://www.w3.org/2002/07/owl#ObjectProperty'],\n",
       "     'http://www.w3.org/2000/01/rdf-schema#domain': [{'@id': 'https://nick-harley.github.io/chakra-ontology#Constituent'}],\n",
       "     'http://www.w3.org/2000/01/rdf-schema#range': [{'@id': 'http://www.w3.org/1999/02/22-rdf-syntax-ns#List'}]},\n",
       "    {'@id': 'https://nick-harley.github.io/chakra-ontology#constituents',\n",
       "     '@type': ['http://www.w3.org/2002/07/owl#ObjectProperty'],\n",
       "     'http://www.w3.org/2000/01/rdf-schema#domain': [{'@id': 'https://nick-harley.github.io/chakra-ontology#Structure'}],\n",
       "     'http://www.w3.org/2000/01/rdf-schema#range': [{'@id': 'http://www.w3.org/1999/02/22-rdf-syntax-ns#List'}]}]}}]"
      ]
     },
     "execution_count": 5,
     "metadata": {},
     "output_type": "execute_result"
    }
   ],
   "source": [
    "expanded"
   ]
  },
  {
   "cell_type": "code",
   "execution_count": 6,
   "metadata": {},
   "outputs": [
    {
     "data": {
      "text/plain": [
       "[{'@id': '_:b0',\n",
       "  'http://www.w3.org/2002/07/owl#unionOf': [{'@list': [{'@id': 'https://nick-harley.github.io/chakra-ontology#Attribute'},\n",
       "     {'@id': 'https://nick-harley.github.io/chakra-ontology#Property'}]}]},\n",
       " {'@id': '_:b1',\n",
       "  'http://www.w3.org/2002/07/owl#unionOf': [{'@list': [{'@id': 'https://nick-harley.github.io/chakra-ontology#Attribute'},\n",
       "     {'@id': 'https://nick-harley.github.io/chakra-ontology#Property'}]}]},\n",
       " {'@id': 'https://nick-harley.github.io/chakra-ontology#',\n",
       "  '@type': ['http://www.w3.org/2002/07/owl#Ontology']},\n",
       " {'@id': 'https://nick-harley.github.io/chakra-ontology#Attribute',\n",
       "  'http://www.w3.org/2000/01/rdf-schema#isDefinedBy': [{'@id': 'https://nick-harley.github.io/chakra-ontology#'}],\n",
       "  '@type': ['http://www.w3.org/2002/07/owl#Class']},\n",
       " {'@id': 'https://nick-harley.github.io/chakra-ontology#Constituent',\n",
       "  'http://www.w3.org/2000/01/rdf-schema#isDefinedBy': [{'@id': 'https://nick-harley.github.io/chakra-ontology#'}],\n",
       "  '@type': ['http://www.w3.org/2002/07/owl#Class']},\n",
       " {'@id': 'https://nick-harley.github.io/chakra-ontology#Property',\n",
       "  'http://www.w3.org/2000/01/rdf-schema#isDefinedBy': [{'@id': 'https://nick-harley.github.io/chakra-ontology#'}],\n",
       "  '@type': ['http://www.w3.org/2002/07/owl#Class']},\n",
       " {'@id': 'https://nick-harley.github.io/chakra-ontology#Structure',\n",
       "  'http://www.w3.org/2000/01/rdf-schema#isDefinedBy': [{'@id': 'https://nick-harley.github.io/chakra-ontology#'}],\n",
       "  '@type': ['http://www.w3.org/2002/07/owl#Class']},\n",
       " {'@id': 'https://nick-harley.github.io/chakra-ontology#constituents',\n",
       "  'http://www.w3.org/2000/01/rdf-schema#isDefinedBy': [{'@id': 'https://nick-harley.github.io/chakra-ontology#'}],\n",
       "  '@type': ['http://www.w3.org/2002/07/owl#ObjectProperty'],\n",
       "  'http://www.w3.org/2000/01/rdf-schema#domain': [{'@id': 'https://nick-harley.github.io/chakra-ontology#Structure'}],\n",
       "  'http://www.w3.org/2000/01/rdf-schema#range': [{'@id': 'http://www.w3.org/1999/02/22-rdf-syntax-ns#List'}]},\n",
       " {'@id': 'https://nick-harley.github.io/chakra-ontology#hasAttribute',\n",
       "  'http://www.w3.org/2000/01/rdf-schema#isDefinedBy': [{'@id': 'https://nick-harley.github.io/chakra-ontology#'}],\n",
       "  '@type': ['http://www.w3.org/2002/07/owl#ObjectProperty'],\n",
       "  'http://www.w3.org/2000/01/rdf-schema#domain': [{'@id': 'https://nick-harley.github.io/chakra-ontology#Constituent'}],\n",
       "  'http://www.w3.org/2000/01/rdf-schema#range': [{'@id': 'https://nick-harley.github.io/chakra-ontology#Attribute'}]},\n",
       " {'@id': 'https://nick-harley.github.io/chakra-ontology#hasPart',\n",
       "  'http://www.w3.org/2000/01/rdf-schema#isDefinedBy': [{'@id': 'https://nick-harley.github.io/chakra-ontology#'}],\n",
       "  '@type': ['http://www.w3.org/2002/07/owl#ObjectProperty'],\n",
       "  'http://www.w3.org/2000/01/rdf-schema#domain': [{'@id': 'https://nick-harley.github.io/chakra-ontology#Constituent'}],\n",
       "  'http://www.w3.org/2000/01/rdf-schema#range': [{'@id': 'https://nick-harley.github.io/chakra-ontology#Constituent'}]},\n",
       " {'@id': 'https://nick-harley.github.io/chakra-ontology#hasProperty',\n",
       "  'http://www.w3.org/2000/01/rdf-schema#isDefinedBy': [{'@id': 'https://nick-harley.github.io/chakra-ontology#'}],\n",
       "  '@type': ['http://www.w3.org/2002/07/owl#ObjectProperty'],\n",
       "  'http://www.w3.org/2000/01/rdf-schema#domain': [{'@id': 'https://nick-harley.github.io/chakra-ontology#Constituent'}],\n",
       "  'http://www.w3.org/2000/01/rdf-schema#range': [{'@id': 'https://nick-harley.github.io/chakra-ontology#Property'}]},\n",
       " {'@id': 'https://nick-harley.github.io/chakra-ontology#isPartOf',\n",
       "  'http://www.w3.org/2000/01/rdf-schema#isDefinedBy': [{'@id': 'https://nick-harley.github.io/chakra-ontology#'}],\n",
       "  '@type': ['http://www.w3.org/2002/07/owl#ObjectProperty'],\n",
       "  'http://www.w3.org/2000/01/rdf-schema#domain': [{'@id': 'https://nick-harley.github.io/chakra-ontology#Constituent'}],\n",
       "  'http://www.w3.org/2000/01/rdf-schema#range': [{'@id': 'https://nick-harley.github.io/chakra-ontology#Constituent'}],\n",
       "  'http://www.w3.org/2002/07/owl#inverseOf': [{'@value': 'chakra:hasPart'}]},\n",
       " {'@id': 'https://nick-harley.github.io/chakra-ontology#name',\n",
       "  'http://www.w3.org/2000/01/rdf-schema#isDefinedBy': [{'@id': 'https://nick-harley.github.io/chakra-ontology#'}],\n",
       "  '@type': ['http://www.w3.org/2002/07/owl#DatatypeProperty'],\n",
       "  'http://www.w3.org/2000/01/rdf-schema#domain': [{'@id': '_:b0'}]},\n",
       " {'@id': 'https://nick-harley.github.io/chakra-ontology#particles',\n",
       "  'http://www.w3.org/2000/01/rdf-schema#isDefinedBy': [{'@id': 'https://nick-harley.github.io/chakra-ontology#'}],\n",
       "  '@type': ['http://www.w3.org/2002/07/owl#ObjectProperty'],\n",
       "  'http://www.w3.org/2000/01/rdf-schema#domain': [{'@id': 'https://nick-harley.github.io/chakra-ontology#Constituent'}],\n",
       "  'http://www.w3.org/2000/01/rdf-schema#range': [{'@id': 'http://www.w3.org/1999/02/22-rdf-syntax-ns#List'}]},\n",
       " {'@id': 'https://nick-harley.github.io/chakra-ontology#value',\n",
       "  'http://www.w3.org/2000/01/rdf-schema#isDefinedBy': [{'@id': 'https://nick-harley.github.io/chakra-ontology#'}],\n",
       "  '@type': ['http://www.w3.org/2002/07/owl#DatatypeProperty'],\n",
       "  'http://www.w3.org/2000/01/rdf-schema#domain': [{'@id': '_:b1'}]}]"
      ]
     },
     "execution_count": 6,
     "metadata": {},
     "output_type": "execute_result"
    }
   ],
   "source": [
    "flattened"
   ]
  },
  {
   "cell_type": "code",
   "execution_count": null,
   "metadata": {},
   "outputs": [],
   "source": []
  }
 ],
 "metadata": {
  "kernelspec": {
   "display_name": "Python 3 (ipykernel)",
   "language": "python",
   "name": "python3"
  },
  "language_info": {
   "codemirror_mode": {
    "name": "ipython",
    "version": 3
   },
   "file_extension": ".py",
   "mimetype": "text/x-python",
   "name": "python",
   "nbconvert_exporter": "python",
   "pygments_lexer": "ipython3",
   "version": "3.9.12"
  }
 },
 "nbformat": 4,
 "nbformat_minor": 4
}
